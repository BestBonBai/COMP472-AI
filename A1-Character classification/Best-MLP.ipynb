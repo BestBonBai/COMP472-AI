{
 "cells": [
  {
   "cell_type": "markdown",
   "metadata": {},
   "source": [
    "## Best-MLP\n",
    "\n",
    "A better performing Multi-Layered Perceptron found by performing grid search to find the\n",
    "best combination of hyper-parameters. For this, I experiment with the following parameter\n",
    "values:\n",
    "\n",
    "- activation function: sigmoid, tanh, relu and identity\n",
    "- 2 network architectures of your choice: for eg 2 hidden layers with 30+50 nodes, 3 hidden layers\n",
    "with 10+10\n",
    "- solver: Adam and stochastic gradient descent\n",
    "\n",
    "We start by importing the libraries."
   ]
  },
  {
   "cell_type": "code",
   "execution_count": 16,
   "metadata": {},
   "outputs": [
    {
     "name": "stdout",
     "output_type": "stream",
     "text": [
      "The autoreload extension is already loaded. To reload it, use:\n",
      "  %reload_ext autoreload\n"
     ]
    }
   ],
   "source": [
    "%load_ext autoreload\n",
    "%autoreload 2\n",
    "\n",
    "import warnings\n",
    "warnings.filterwarnings('ignore')\n",
    "\n",
    "from utils import config\n",
    "from utils import ProcessDataset\n",
    "import numpy as np\n",
    "import pandas as pd\n",
    "import matplotlib.pyplot as plt\n",
    "from sklearn.neural_network import MLPClassifier\n",
    "from sklearn.metrics import plot_confusion_matrix\n",
    "from sklearn.metrics import accuracy_score\n",
    "from sklearn.metrics import f1_score\n",
    "from sklearn.model_selection import GridSearchCV\n",
    "from sklearn.model_selection import KFold\n",
    "from sklearn.model_selection import cross_val_score"
   ]
  },
  {
   "cell_type": "markdown",
   "metadata": {},
   "source": [
    "### Loading Latin and Greek train and val data.\n",
    "\n",
    "The data consists of 1025 columns, 1024 columns for each pixel and 1 row specifying the character it represents."
   ]
  },
  {
   "cell_type": "code",
   "execution_count": 13,
   "metadata": {},
   "outputs": [],
   "source": [
    "Latin_Train = np.array(ProcessDataset.get_DataFromCSV(config.LATIN_TRAIN_SET))\n",
    "Latin_X_Train = Latin_Train[:,0:1024]\n",
    "Latin_Y_Train = Latin_Train[:,1024]\n",
    "Latin_Val = np.array(ProcessDataset.get_DataFromCSV(config.LATIN_DATA_VAL))\n",
    "Latin_X_Val = Latin_Val[:,0:1024]\n",
    "Latin_Y_Val = Latin_Val[:,1024]\n",
    "\n",
    "Greek_Train = np.array(ProcessDataset.get_DataFromCSV(config.GREEK_TRAIN_SET))\n",
    "Greek_X_Train = Greek_Train[:,0:1024]\n",
    "Greek_Y_Train = Greek_Train[:,1024]\n",
    "Greek_Val = np.array(ProcessDataset.get_DataFromCSV(config.GREEK_DATA_VAL))\n",
    "Greek_X_Val = Greek_Val[:,0:1024]\n",
    "Greek_Y_Val = Greek_Val[:,1024]"
   ]
  },
  {
   "cell_type": "markdown",
   "metadata": {},
   "source": [
    "### Experimenting with different MLP parameters\n",
    "\n",
    "- activation function: sigmoid, tanh, relu and identity\n",
    "- 2 network architectures of your choice: for eg 2 hidden layers with 30+50 nodes, 3 hidden layers\n",
    "with 10+10\n",
    "- solver: Adam and stochastic gradient descent\n",
    "\n",
    "From the geometric pyramid rule proposed by Masters, a rule for 3 hidden layers is $\\sqrt{n}{m}$ where n is the input neurons and m the output neurons. Since there are 26 classes for lating and 10 classes for greek, we decided to try out a 3 hidden layer network of 26 neurons and 10 neurons."
   ]
  },
  {
   "cell_type": "code",
   "execution_count": 3,
   "metadata": {},
   "outputs": [],
   "source": [
    "parameters = {'activation': ['identity', 'logistic', 'tanh', 'relu'],\n",
    "              'hidden_layer_sizes': [(26,26,26), (20,30)], \n",
    "              'solver':['adam','sgd']}\n",
    "clf_latin = GridSearchCV(MLPClassifier(), parameters, n_jobs=-1)\n",
    "\n",
    "parameters = {'activation': ['identity', 'logistic', 'tanh', 'relu'],\n",
    "              'hidden_layer_sizes': [(10,10,10), (20,30)], \n",
    "              'solver':['adam','sgd']}\n",
    "clf_greek = GridSearchCV(MLPClassifier(), parameters, n_jobs=-1)"
   ]
  },
  {
   "cell_type": "markdown",
   "metadata": {},
   "source": [
    "### Training the mlp model\n",
    "\n",
    "The GridSearch will find the best combination of parameters that yield the best results. This can take quite some time as it is trying out every combination."
   ]
  },
  {
   "cell_type": "code",
   "execution_count": 4,
   "metadata": {},
   "outputs": [
    {
     "name": "stderr",
     "output_type": "stream",
     "text": [
      "/home/niyon/.local/lib/python3.6/site-packages/sklearn/neural_network/_multilayer_perceptron.py:585: ConvergenceWarning: Stochastic Optimizer: Maximum iterations (200) reached and the optimization hasn't converged yet.\n",
      "  % self.max_iter, ConvergenceWarning)\n",
      "/home/niyon/.local/lib/python3.6/site-packages/sklearn/neural_network/_multilayer_perceptron.py:585: ConvergenceWarning: Stochastic Optimizer: Maximum iterations (200) reached and the optimization hasn't converged yet.\n",
      "  % self.max_iter, ConvergenceWarning)\n"
     ]
    },
    {
     "data": {
      "text/plain": [
       "GridSearchCV(estimator=MLPClassifier(), n_jobs=-1,\n",
       "             param_grid={'activation': ['identity', 'logistic', 'tanh', 'relu'],\n",
       "                         'hidden_layer_sizes': [(10, 10, 10), (20, 30)],\n",
       "                         'solver': ['adam', 'sgd']})"
      ]
     },
     "execution_count": 4,
     "metadata": {},
     "output_type": "execute_result"
    }
   ],
   "source": [
    "clf_latin.fit(Latin_X_Train, Latin_Y_Train)\n",
    "\n",
    "clf_greek.fit(Greek_X_Train, Greek_Y_Train)"
   ]
  },
  {
   "cell_type": "markdown",
   "metadata": {},
   "source": [
    "## Validating the model with K-Fold Cross-Validation"
   ]
  },
  {
   "cell_type": "code",
   "execution_count": 17,
   "metadata": {},
   "outputs": [
    {
     "name": "stdout",
     "output_type": "stream",
     "text": [
      "Accuracy of latin perceptron: 54.66%\n",
      "Accuracy of greek perceptron: 82.48%\n"
     ]
    }
   ],
   "source": [
    "kfold = KFold(n_splits=10, random_state=100)\n",
    "\n",
    "results_kfold = cross_val_score(clf_latin, Latin_X_Val, Latin_Y_Val, cv=kfold)\n",
    "print(\"Accuracy of latin perceptron: %.2f%%\" % (results_kfold.mean()*100.0)) \n",
    "\n",
    "results_kfold = cross_val_score(clf_greek, Greek_X_Val, Greek_Y_Val, cv=kfold)\n",
    "print(\"Accuracy of greek perceptron: %.2f%%\" % (results_kfold.mean()*100.0)) "
   ]
  },
  {
   "cell_type": "markdown",
   "metadata": {},
   "source": [
    "As we can see the accuracy is way better than than the BASE-MLP model."
   ]
  },
  {
   "cell_type": "markdown",
   "metadata": {},
   "source": [
    "## Predicting new values\n",
    "\n",
    "First we load the test dataset and then use the model to predict what character they are."
   ]
  },
  {
   "cell_type": "code",
   "execution_count": 5,
   "metadata": {},
   "outputs": [],
   "source": [
    "Latin_X_Test = np.array(ProcessDataset.get_DataFromCSV(config.LATIN_TEST_NOLABEL))\n",
    "Latin_Y_Test = np.array(ProcessDataset.get_DataFromCSV(config.LATIN_TEST_LABEL))[:,1024]\n",
    "\n",
    "Greek_X_Test = np.array(ProcessDataset.get_DataFromCSV(config.GREEK_TEST_NOLABEL))\n",
    "Greek_Y_Test = np.array(ProcessDataset.get_DataFromCSV(config.GREEK_TEST_LABEL))[:,1024]"
   ]
  },
  {
   "cell_type": "code",
   "execution_count": 6,
   "metadata": {},
   "outputs": [],
   "source": [
    "Latin_Y_Pred = clf_latin.predict(Latin_X_Test)\n",
    "pd.DataFrame(Latin_Y_Pred).to_csv(\"./Output/BEST-MLP-DS1.csv\", header=None)\n",
    "\n",
    "Greek_Y_Pred = clf_greek.predict(Greek_X_Test)\n",
    "pd.DataFrame(Greek_Y_Pred).to_csv(\"./Output/BEST-MLP-DS2.csv\", header=None)"
   ]
  },
  {
   "cell_type": "markdown",
   "metadata": {},
   "source": [
    "## Finding out how accurate our model is\n",
    "\n",
    "### 1. Confusion Matrix"
   ]
  },
  {
   "cell_type": "code",
   "execution_count": 7,
   "metadata": {},
   "outputs": [
    {
     "data": {
      "image/png": "[encoded data removed]",
      "text/plain": [
       "<Figure size 432x288 with 2 Axes>"
      ]
     },
     "metadata": {
      "needs_background": "light"
     },
     "output_type": "display_data"
    }
   ],
   "source": [
    "plot_confusion_matrix(clf_latin, Latin_X_Test, Latin_Y_Test)\n",
    "plt.show()"
   ]
  },
  {
   "cell_type": "code",
   "execution_count": 8,
   "metadata": {},
   "outputs": [
    {
     "data": {
      "image/png": "[encoded data removed]",
      "text/plain": [
       "<Figure size 432x288 with 2 Axes>"
      ]
     },
     "metadata": {
      "needs_background": "light"
     },
     "output_type": "display_data"
    }
   ],
   "source": [
    "plot_confusion_matrix(clf_greek, Greek_X_Test, Greek_Y_Test)\n",
    "plt.show()"
   ]
  },
  {
   "cell_type": "markdown",
   "metadata": {},
   "source": [
    "### 2. Precision, recall, and f1-measure for each class"
   ]
  },
  {
   "cell_type": "code",
   "execution_count": 9,
   "metadata": {},
   "outputs": [
    {
     "data": {
      "text/html": [
       "<div>\n",
       "<style scoped>\n",
       "    .dataframe tbody tr th:only-of-type {\n",
       "        vertical-align: middle;\n",
       "    }\n",
       "\n",
       "    .dataframe tbody tr th {\n",
       "        vertical-align: top;\n",
       "    }\n",
       "\n",
       "    .dataframe thead th {\n",
       "        text-align: right;\n",
       "    }\n",
       "</style>\n",
       "<table border=\"1\" class=\"dataframe\">\n",
       "  <thead>\n",
       "    <tr style=\"text-align: right;\">\n",
       "      <th></th>\n",
       "      <th>precision</th>\n",
       "      <th>recall</th>\n",
       "      <th>f1</th>\n",
       "    </tr>\n",
       "  </thead>\n",
       "  <tbody>\n",
       "    <tr>\n",
       "      <th>0</th>\n",
       "      <td>1.000000</td>\n",
       "      <td>0.750000</td>\n",
       "      <td>0.857143</td>\n",
       "    </tr>\n",
       "    <tr>\n",
       "      <th>1</th>\n",
       "      <td>0.666667</td>\n",
       "      <td>1.000000</td>\n",
       "      <td>0.800000</td>\n",
       "    </tr>\n",
       "    <tr>\n",
       "      <th>2</th>\n",
       "      <td>1.000000</td>\n",
       "      <td>1.000000</td>\n",
       "      <td>1.000000</td>\n",
       "    </tr>\n",
       "    <tr>\n",
       "      <th>3</th>\n",
       "      <td>1.000000</td>\n",
       "      <td>1.000000</td>\n",
       "      <td>1.000000</td>\n",
       "    </tr>\n",
       "    <tr>\n",
       "      <th>4</th>\n",
       "      <td>1.000000</td>\n",
       "      <td>1.000000</td>\n",
       "      <td>1.000000</td>\n",
       "    </tr>\n",
       "    <tr>\n",
       "      <th>5</th>\n",
       "      <td>1.000000</td>\n",
       "      <td>0.500000</td>\n",
       "      <td>0.666667</td>\n",
       "    </tr>\n",
       "    <tr>\n",
       "      <th>6</th>\n",
       "      <td>0.600000</td>\n",
       "      <td>0.750000</td>\n",
       "      <td>0.666667</td>\n",
       "    </tr>\n",
       "    <tr>\n",
       "      <th>7</th>\n",
       "      <td>1.000000</td>\n",
       "      <td>0.666667</td>\n",
       "      <td>0.800000</td>\n",
       "    </tr>\n",
       "    <tr>\n",
       "      <th>8</th>\n",
       "      <td>1.000000</td>\n",
       "      <td>1.000000</td>\n",
       "      <td>1.000000</td>\n",
       "    </tr>\n",
       "    <tr>\n",
       "      <th>9</th>\n",
       "      <td>1.000000</td>\n",
       "      <td>0.500000</td>\n",
       "      <td>0.666667</td>\n",
       "    </tr>\n",
       "    <tr>\n",
       "      <th>10</th>\n",
       "      <td>0.666667</td>\n",
       "      <td>0.666667</td>\n",
       "      <td>0.666667</td>\n",
       "    </tr>\n",
       "    <tr>\n",
       "      <th>11</th>\n",
       "      <td>1.000000</td>\n",
       "      <td>0.750000</td>\n",
       "      <td>0.857143</td>\n",
       "    </tr>\n",
       "    <tr>\n",
       "      <th>12</th>\n",
       "      <td>0.500000</td>\n",
       "      <td>0.666667</td>\n",
       "      <td>0.571429</td>\n",
       "    </tr>\n",
       "    <tr>\n",
       "      <th>13</th>\n",
       "      <td>0.750000</td>\n",
       "      <td>0.750000</td>\n",
       "      <td>0.750000</td>\n",
       "    </tr>\n",
       "    <tr>\n",
       "      <th>14</th>\n",
       "      <td>1.000000</td>\n",
       "      <td>1.000000</td>\n",
       "      <td>1.000000</td>\n",
       "    </tr>\n",
       "    <tr>\n",
       "      <th>15</th>\n",
       "      <td>0.750000</td>\n",
       "      <td>1.000000</td>\n",
       "      <td>0.857143</td>\n",
       "    </tr>\n",
       "    <tr>\n",
       "      <th>16</th>\n",
       "      <td>0.750000</td>\n",
       "      <td>1.000000</td>\n",
       "      <td>0.857143</td>\n",
       "    </tr>\n",
       "    <tr>\n",
       "      <th>17</th>\n",
       "      <td>1.000000</td>\n",
       "      <td>1.000000</td>\n",
       "      <td>1.000000</td>\n",
       "    </tr>\n",
       "    <tr>\n",
       "      <th>18</th>\n",
       "      <td>1.000000</td>\n",
       "      <td>0.666667</td>\n",
       "      <td>0.800000</td>\n",
       "    </tr>\n",
       "    <tr>\n",
       "      <th>19</th>\n",
       "      <td>0.500000</td>\n",
       "      <td>1.000000</td>\n",
       "      <td>0.666667</td>\n",
       "    </tr>\n",
       "    <tr>\n",
       "      <th>20</th>\n",
       "      <td>1.000000</td>\n",
       "      <td>1.000000</td>\n",
       "      <td>1.000000</td>\n",
       "    </tr>\n",
       "    <tr>\n",
       "      <th>21</th>\n",
       "      <td>1.000000</td>\n",
       "      <td>1.000000</td>\n",
       "      <td>1.000000</td>\n",
       "    </tr>\n",
       "    <tr>\n",
       "      <th>22</th>\n",
       "      <td>1.000000</td>\n",
       "      <td>1.000000</td>\n",
       "      <td>1.000000</td>\n",
       "    </tr>\n",
       "    <tr>\n",
       "      <th>23</th>\n",
       "      <td>1.000000</td>\n",
       "      <td>1.000000</td>\n",
       "      <td>1.000000</td>\n",
       "    </tr>\n",
       "    <tr>\n",
       "      <th>24</th>\n",
       "      <td>0.750000</td>\n",
       "      <td>1.000000</td>\n",
       "      <td>0.857143</td>\n",
       "    </tr>\n",
       "    <tr>\n",
       "      <th>25</th>\n",
       "      <td>1.000000</td>\n",
       "      <td>0.666667</td>\n",
       "      <td>0.800000</td>\n",
       "    </tr>\n",
       "  </tbody>\n",
       "</table>\n",
       "</div>"
      ],
      "text/plain": [
       "    precision    recall        f1\n",
       "0    1.000000  0.750000  0.857143\n",
       "1    0.666667  1.000000  0.800000\n",
       "2    1.000000  1.000000  1.000000\n",
       "3    1.000000  1.000000  1.000000\n",
       "4    1.000000  1.000000  1.000000\n",
       "5    1.000000  0.500000  0.666667\n",
       "6    0.600000  0.750000  0.666667\n",
       "7    1.000000  0.666667  0.800000\n",
       "8    1.000000  1.000000  1.000000\n",
       "9    1.000000  0.500000  0.666667\n",
       "10   0.666667  0.666667  0.666667\n",
       "11   1.000000  0.750000  0.857143\n",
       "12   0.500000  0.666667  0.571429\n",
       "13   0.750000  0.750000  0.750000\n",
       "14   1.000000  1.000000  1.000000\n",
       "15   0.750000  1.000000  0.857143\n",
       "16   0.750000  1.000000  0.857143\n",
       "17   1.000000  1.000000  1.000000\n",
       "18   1.000000  0.666667  0.800000\n",
       "19   0.500000  1.000000  0.666667\n",
       "20   1.000000  1.000000  1.000000\n",
       "21   1.000000  1.000000  1.000000\n",
       "22   1.000000  1.000000  1.000000\n",
       "23   1.000000  1.000000  1.000000\n",
       "24   0.750000  1.000000  0.857143\n",
       "25   1.000000  0.666667  0.800000"
      ]
     },
     "execution_count": 9,
     "metadata": {},
     "output_type": "execute_result"
    }
   ],
   "source": [
    "ProcessDataset.calculate_PRF(Latin_Y_Test, Latin_Y_Pred)"
   ]
  },
  {
   "cell_type": "code",
   "execution_count": 10,
   "metadata": {},
   "outputs": [
    {
     "data": {
      "text/html": [
       "<div>\n",
       "<style scoped>\n",
       "    .dataframe tbody tr th:only-of-type {\n",
       "        vertical-align: middle;\n",
       "    }\n",
       "\n",
       "    .dataframe tbody tr th {\n",
       "        vertical-align: top;\n",
       "    }\n",
       "\n",
       "    .dataframe thead th {\n",
       "        text-align: right;\n",
       "    }\n",
       "</style>\n",
       "<table border=\"1\" class=\"dataframe\">\n",
       "  <thead>\n",
       "    <tr style=\"text-align: right;\">\n",
       "      <th></th>\n",
       "      <th>precision</th>\n",
       "      <th>recall</th>\n",
       "      <th>f1</th>\n",
       "    </tr>\n",
       "  </thead>\n",
       "  <tbody>\n",
       "    <tr>\n",
       "      <th>0</th>\n",
       "      <td>0.825397</td>\n",
       "      <td>0.945455</td>\n",
       "      <td>0.881356</td>\n",
       "    </tr>\n",
       "    <tr>\n",
       "      <th>1</th>\n",
       "      <td>0.983871</td>\n",
       "      <td>0.976000</td>\n",
       "      <td>0.979920</td>\n",
       "    </tr>\n",
       "    <tr>\n",
       "      <th>2</th>\n",
       "      <td>0.888889</td>\n",
       "      <td>0.533333</td>\n",
       "      <td>0.666667</td>\n",
       "    </tr>\n",
       "    <tr>\n",
       "      <th>3</th>\n",
       "      <td>0.928571</td>\n",
       "      <td>0.866667</td>\n",
       "      <td>0.896552</td>\n",
       "    </tr>\n",
       "    <tr>\n",
       "      <th>4</th>\n",
       "      <td>0.740000</td>\n",
       "      <td>0.740000</td>\n",
       "      <td>0.740000</td>\n",
       "    </tr>\n",
       "    <tr>\n",
       "      <th>5</th>\n",
       "      <td>0.847458</td>\n",
       "      <td>0.909091</td>\n",
       "      <td>0.877193</td>\n",
       "    </tr>\n",
       "    <tr>\n",
       "      <th>6</th>\n",
       "      <td>1.000000</td>\n",
       "      <td>0.600000</td>\n",
       "      <td>0.750000</td>\n",
       "    </tr>\n",
       "    <tr>\n",
       "      <th>7</th>\n",
       "      <td>1.000000</td>\n",
       "      <td>1.000000</td>\n",
       "      <td>1.000000</td>\n",
       "    </tr>\n",
       "    <tr>\n",
       "      <th>8</th>\n",
       "      <td>0.813559</td>\n",
       "      <td>0.960000</td>\n",
       "      <td>0.880734</td>\n",
       "    </tr>\n",
       "    <tr>\n",
       "      <th>9</th>\n",
       "      <td>0.897436</td>\n",
       "      <td>0.846774</td>\n",
       "      <td>0.871369</td>\n",
       "    </tr>\n",
       "  </tbody>\n",
       "</table>\n",
       "</div>"
      ],
      "text/plain": [
       "   precision    recall        f1\n",
       "0   0.825397  0.945455  0.881356\n",
       "1   0.983871  0.976000  0.979920\n",
       "2   0.888889  0.533333  0.666667\n",
       "3   0.928571  0.866667  0.896552\n",
       "4   0.740000  0.740000  0.740000\n",
       "5   0.847458  0.909091  0.877193\n",
       "6   1.000000  0.600000  0.750000\n",
       "7   1.000000  1.000000  1.000000\n",
       "8   0.813559  0.960000  0.880734\n",
       "9   0.897436  0.846774  0.871369"
      ]
     },
     "execution_count": 10,
     "metadata": {},
     "output_type": "execute_result"
    }
   ],
   "source": [
    "ProcessDataset.calculate_PRF(Greek_Y_Test, Greek_Y_Pred)"
   ]
  },
  {
   "cell_type": "markdown",
   "metadata": {},
   "source": [
    "### 3. Accuracy, macro-average f1 and weighted-average f1 of the model"
   ]
  },
  {
   "cell_type": "markdown",
   "metadata": {},
   "source": [
    "#### Perceptron model on DS1"
   ]
  },
  {
   "cell_type": "code",
   "execution_count": 11,
   "metadata": {},
   "outputs": [
    {
     "name": "stdout",
     "output_type": "stream",
     "text": [
      "Accuracy of perceptron model on DS1: 84.81012658227847%\n",
      "Macro-average f1 of perceptron model on DS1: 85.15567765567766%\n",
      "Weighted-average f1 of perceptron model on DS1: 84.91862567811935%\n"
     ]
    }
   ],
   "source": [
    "print(\"Accuracy of perceptron model on DS1: \" + str(accuracy_score(Latin_Y_Test, Latin_Y_Pred)*100)+\"%\")\n",
    "f1_score(Latin_Y_Test, Latin_Y_Pred, average='macro')\n",
    "print(\"Macro-average f1 of perceptron model on DS1: \" + str(f1_score(Latin_Y_Test, Latin_Y_Pred, average='macro')*100)+\"%\")\n",
    "print(\"Weighted-average f1 of perceptron model on DS1: \" + str(f1_score(Latin_Y_Test, Latin_Y_Pred, average='weighted')*100)+\"%\")"
   ]
  },
  {
   "cell_type": "markdown",
   "metadata": {},
   "source": [
    "#### Perceptron model on DS2"
   ]
  },
  {
   "cell_type": "code",
   "execution_count": 12,
   "metadata": {},
   "outputs": [
    {
     "name": "stdout",
     "output_type": "stream",
     "text": [
      "Accuracy of perceptron model on DS1: 88.4393063583815%\n",
      "Macro-average f1 of perceptron model on DS1: 85.43790223738925%\n",
      "Weighted-average f1 of perceptron model on DS1: 88.24564851378177%\n"
     ]
    }
   ],
   "source": [
    "print(\"Accuracy of perceptron model on DS1: \" + str(accuracy_score(Greek_Y_Test, Greek_Y_Pred)*100)+\"%\")\n",
    "f1_score(Latin_Y_Test, Latin_Y_Pred, average='macro')\n",
    "print(\"Macro-average f1 of perceptron model on DS1: \" + str(f1_score(Greek_Y_Test, Greek_Y_Pred, average='macro')*100)+\"%\")\n",
    "print(\"Weighted-average f1 of perceptron model on DS1: \" + str(f1_score(Greek_Y_Test, Greek_Y_Pred, average='weighted')*100)+\"%\")"
   ]
  },
  {
   "cell_type": "markdown",
   "metadata": {},
   "source": [
    "## Conclusion\n",
    "\n",
    "As we can see, the accuracy of the model greatly improved from the BASE-MLP."
   ]
  }
 ],
 "metadata": {
  "kernelspec": {
   "display_name": "Python 3",
   "language": "python",
   "name": "python3"
  },
  "language_info": {
   "codemirror_mode": {
    "name": "ipython",
    "version": 3
   },
   "file_extension": ".py",
   "mimetype": "text/x-python",
   "name": "python",
   "nbconvert_exporter": "python",
   "pygments_lexer": "ipython3",
   "version": "3.6.9"
  }
 },
 "nbformat": 4,
 "nbformat_minor": 2
}
